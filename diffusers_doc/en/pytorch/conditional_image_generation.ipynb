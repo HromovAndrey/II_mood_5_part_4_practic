{
  "cells": [
    {
      "cell_type": "markdown",
      "metadata": {
        "id": "HjhSE_Jn7Jpz"
      },
      "source": [
        "# Conditional image generation"
      ]
    },
    {
      "cell_type": "markdown",
      "metadata": {
        "id": "cEENgFg37Jp-"
      },
      "source": [
        "Conditional image generation allows you to generate images from a text prompt. The text is converted into embeddings which are used to condition the model to generate an image from noise.\n",
        "\n",
        "The [DiffusionPipeline](https://huggingface.co/docs/diffusers/main/en/api/pipelines/overview#diffusers.DiffusionPipeline) is the easiest way to use a pre-trained diffusion system for inference.\n",
        "\n",
        "Start by creating an instance of [DiffusionPipeline](https://huggingface.co/docs/diffusers/main/en/api/pipelines/overview#diffusers.DiffusionPipeline) and specify which pipeline [checkpoint](https://huggingface.co/models?library=diffusers&sort=downloads) you would like to download.\n",
        "\n",
        "In this guide, you'll use [DiffusionPipeline](https://huggingface.co/docs/diffusers/main/en/api/pipelines/overview#diffusers.DiffusionPipeline) for text-to-image generation with [`runwayml/stable-diffusion-v1-5`](https://huggingface.co/runwayml/stable-diffusion-v1-5):"
      ]
    },
    {
      "cell_type": "code",
      "execution_count": null,
      "metadata": {
        "id": "Q3x9XJfH7Jp_"
      },
      "outputs": [],
      "source": [
        "from diffusers import DiffusionPipeline\n",
        "\n",
        "generator = DiffusionPipeline.from_pretrained(\"runwayml/stable-diffusion-v1-5\")"
      ]
    },
    {
      "cell_type": "markdown",
      "metadata": {
        "id": "HOCNGHPR7JqC"
      },
      "source": [
        "The [DiffusionPipeline](https://huggingface.co/docs/diffusers/main/en/api/pipelines/overview#diffusers.DiffusionPipeline) downloads and caches all modeling, tokenization, and scheduling components.\n",
        "Because the model consists of roughly 1.4 billion parameters, we strongly recommend running it on a GPU.\n",
        "You can move the generator object to a GPU, just like you would in PyTorch:"
      ]
    },
    {
      "cell_type": "code",
      "execution_count": null,
      "metadata": {
        "id": "UZNKM5hp7JqC"
      },
      "outputs": [],
      "source": [
        "generator.to(\"cuda\")"
      ]
    },
    {
      "cell_type": "markdown",
      "metadata": {
        "id": "dm-H4uoo7JqD"
      },
      "source": [
        "Now you can use the `generator` on your text prompt:"
      ]
    },
    {
      "cell_type": "code",
      "execution_count": null,
      "metadata": {
        "id": "fkDEzGGq7JqE"
      },
      "outputs": [],
      "source": [
        "image = generator(\"An image of a squirrel in Picasso style\").images[0]"
      ]
    },
    {
      "cell_type": "markdown",
      "metadata": {
        "id": "6SjbJjZu7JqE"
      },
      "source": [
        "The output is by default wrapped into a [`PIL.Image`](https://pillow.readthedocs.io/en/stable/reference/Image.html?highlight=image#the-image-class) object.\n",
        "\n",
        "You can save the image by calling:"
      ]
    },
    {
      "cell_type": "code",
      "execution_count": null,
      "metadata": {
        "id": "-zgJB-m07JqF"
      },
      "outputs": [],
      "source": [
        "image.save(\"image_of_squirrel_painting.png\")"
      ]
    },
    {
      "cell_type": "markdown",
      "metadata": {
        "id": "jrkEr15D7JqG"
      },
      "source": [
        "Try out the Spaces below, and feel free to play around with the guidance scale parameter to see how it affects the image quality!\n",
        "\n",
        "<iframe\n",
        "\tsrc=\"https://stabilityai-stable-diffusion.hf.space\"\n",
        "\tframeborder=\"0\"\n",
        "\twidth=\"850\"\n",
        "\theight=\"500\"\n",
        "></iframe>"
      ]
    }
  ],
  "metadata": {
    "colab": {
      "provenance": []
    }
  },
  "nbformat": 4,
  "nbformat_minor": 0
}